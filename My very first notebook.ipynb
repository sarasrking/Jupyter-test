{
 "cells": [
  {
   "cell_type": "markdown",
   "metadata": {},
   "source": [
    "# Introduction to Jupyter Notebooks"
   ]
  },
  {
   "cell_type": "markdown",
   "metadata": {},
   "source": [
    "##  A lesson in Markdown"
   ]
  },
  {
   "cell_type": "markdown",
   "metadata": {},
   "source": [
    "### Use it to create rich text in a plain text editor "
   ]
  },
  {
   "cell_type": "markdown",
   "metadata": {},
   "source": [
    "  This is my first lesson in Markdown. \n",
    "  I'm doing really well!\n",
    "  "
   ]
  },
  {
   "cell_type": "markdown",
   "metadata": {},
   "source": [
    "This is **really** interesting."
   ]
  },
  {
   "cell_type": "markdown",
   "metadata": {},
   "source": [
    "This is _interesting_."
   ]
  },
  {
   "cell_type": "code",
   "execution_count": 3,
   "metadata": {
    "collapsed": true,
    "jupyter": {
     "outputs_hidden": true
    }
   },
   "outputs": [],
   "source": [
    "# For comments inside the code cell use a hash"
   ]
  },
  {
   "cell_type": "code",
   "execution_count": 4,
   "metadata": {},
   "outputs": [
    {
     "data": {
      "text/html": [
       "<ol class=list-inline>\n",
       "\t<li>1</li>\n",
       "\t<li>2</li>\n",
       "\t<li>3</li>\n",
       "\t<li>4</li>\n",
       "\t<li>5</li>\n",
       "\t<li>6</li>\n",
       "\t<li>7</li>\n",
       "\t<li>8</li>\n",
       "\t<li>9</li>\n",
       "</ol>\n"
      ],
      "text/latex": [
       "\\begin{enumerate*}\n",
       "\\item 1\n",
       "\\item 2\n",
       "\\item 3\n",
       "\\item 4\n",
       "\\item 5\n",
       "\\item 6\n",
       "\\item 7\n",
       "\\item 8\n",
       "\\item 9\n",
       "\\end{enumerate*}\n"
      ],
      "text/markdown": [
       "1. 1\n",
       "2. 2\n",
       "3. 3\n",
       "4. 4\n",
       "5. 5\n",
       "6. 6\n",
       "7. 7\n",
       "8. 8\n",
       "9. 9\n",
       "\n",
       "\n"
      ],
      "text/plain": [
       "[1] 1 2 3 4 5 6 7 8 9"
      ]
     },
     "metadata": {},
     "output_type": "display_data"
    }
   ],
   "source": [
    "1:9"
   ]
  },
  {
   "cell_type": "code",
   "execution_count": 5,
   "metadata": {},
   "outputs": [
    {
     "data": {
      "text/html": [
       "45"
      ],
      "text/latex": [
       "45"
      ],
      "text/markdown": [
       "45"
      ],
      "text/plain": [
       "[1] 45"
      ]
     },
     "metadata": {},
     "output_type": "display_data"
    }
   ],
   "source": [
    "sum(1:9)"
   ]
  },
  {
   "cell_type": "code",
   "execution_count": 7,
   "metadata": {},
   "outputs": [
    {
     "data": {
      "text/html": [
       "25"
      ],
      "text/latex": [
       "25"
      ],
      "text/markdown": [
       "25"
      ],
      "text/plain": [
       "[1] 25"
      ]
     },
     "metadata": {},
     "output_type": "display_data"
    }
   ],
   "source": [
    "x = c(3,5,8,9)\n",
    "sum(x)\n"
   ]
  },
  {
   "cell_type": "code",
   "execution_count": 8,
   "metadata": {},
   "outputs": [
    {
     "data": {
      "text/html": [
       "'Jack'"
      ],
      "text/latex": [
       "'Jack'"
      ],
      "text/markdown": [
       "'Jack'"
      ],
      "text/plain": [
       "[1] \"Jack\""
      ]
     },
     "metadata": {},
     "output_type": "display_data"
    }
   ],
   "source": [
    "y = c(\"Jack\", \"Queen\", \"King\")\n",
    "  y [1]"
   ]
  },
  {
   "cell_type": "code",
   "execution_count": 10,
   "metadata": {},
   "outputs": [
    {
     "data": {
      "text/html": [
       "'King'"
      ],
      "text/latex": [
       "'King'"
      ],
      "text/markdown": [
       "'King'"
      ],
      "text/plain": [
       "[1] \"King\""
      ]
     },
     "metadata": {},
     "output_type": "display_data"
    }
   ],
   "source": [
    "y = c(\"Jack\", \"Queen\", \"King\")\n",
    "y [3]"
   ]
  },
  {
   "cell_type": "code",
   "execution_count": 13,
   "metadata": {},
   "outputs": [
    {
     "data": {
      "text/html": [
       "<table>\n",
       "<tbody>\n",
       "\t<tr><td>Jack </td><td>Jack </td><td>Jack </td><td>Jack </td></tr>\n",
       "\t<tr><td>Queen</td><td>Queen</td><td>Queen</td><td>Queen</td></tr>\n",
       "\t<tr><td>King </td><td>King </td><td>King </td><td>King </td></tr>\n",
       "</tbody>\n",
       "</table>\n"
      ],
      "text/latex": [
       "\\begin{tabular}{llll}\n",
       "\t Jack  & Jack  & Jack  & Jack \\\\\n",
       "\t Queen & Queen & Queen & Queen\\\\\n",
       "\t King  & King  & King  & King \\\\\n",
       "\\end{tabular}\n"
      ],
      "text/markdown": [
       "\n",
       "| Jack  | Jack  | Jack  | Jack  | \n",
       "| Queen | Queen | Queen | Queen | \n",
       "| King  | King  | King  | King  | \n",
       "\n",
       "\n"
      ],
      "text/plain": [
       "     [,1]  [,2]  [,3]  [,4] \n",
       "[1,] Jack  Jack  Jack  Jack \n",
       "[2,] Queen Queen Queen Queen\n",
       "[3,] King  King  King  King "
      ]
     },
     "metadata": {},
     "output_type": "display_data"
    }
   ],
   "source": [
    "matrix(y,3,4,byrow=F)"
   ]
  },
  {
   "cell_type": "code",
   "execution_count": 18,
   "metadata": {},
   "outputs": [],
   "source": [
    "employee <-c(\"Juanita Lopez\", \"Peter Gynn\", \"Jolie Talofa\")\n",
    "salary <-c(81000, 83400, 96800)\n",
    "startdate <-as.Date(c(\"2010-11-1\", \"2008-3-25\", \"2007-3-14\"))"
   ]
  },
  {
   "cell_type": "code",
   "execution_count": 19,
   "metadata": {},
   "outputs": [
    {
     "data": {
      "text/html": [
       "<table>\n",
       "<thead><tr><th scope=col>employee</th><th scope=col>salary</th><th scope=col>startdate</th></tr></thead>\n",
       "<tbody>\n",
       "\t<tr><td>Juanita Lopez</td><td>81000        </td><td>2010-11-01   </td></tr>\n",
       "\t<tr><td>Peter Gynn   </td><td>83400        </td><td>2008-03-25   </td></tr>\n",
       "\t<tr><td>Jolie Talofa </td><td>96800        </td><td>2007-03-14   </td></tr>\n",
       "</tbody>\n",
       "</table>\n"
      ],
      "text/latex": [
       "\\begin{tabular}{r|lll}\n",
       " employee & salary & startdate\\\\\n",
       "\\hline\n",
       "\t Juanita Lopez & 81000         & 2010-11-01   \\\\\n",
       "\t Peter Gynn    & 83400         & 2008-03-25   \\\\\n",
       "\t Jolie Talofa  & 96800         & 2007-03-14   \\\\\n",
       "\\end{tabular}\n"
      ],
      "text/markdown": [
       "\n",
       "employee | salary | startdate | \n",
       "|---|---|---|\n",
       "| Juanita Lopez | 81000         | 2010-11-01    | \n",
       "| Peter Gynn    | 83400         | 2008-03-25    | \n",
       "| Jolie Talofa  | 96800         | 2007-03-14    | \n",
       "\n",
       "\n"
      ],
      "text/plain": [
       "  employee      salary startdate \n",
       "1 Juanita Lopez 81000  2010-11-01\n",
       "2 Peter Gynn    83400  2008-03-25\n",
       "3 Jolie Talofa  96800  2007-03-14"
      ]
     },
     "metadata": {},
     "output_type": "display_data"
    }
   ],
   "source": [
    "employ.data <- data.frame(employee, salary, startdate)\n",
    "employ.data <- data.frame(employee, salary, startdate, stringsAsFactors = FALSE)\n",
    "employ.data"
   ]
  },
  {
   "cell_type": "code",
   "execution_count": null,
   "metadata": {
    "collapsed": true,
    "jupyter": {
     "outputs_hidden": true
    }
   },
   "outputs": [],
   "source": []
  }
 ],
 "metadata": {
  "kernelspec": {
   "display_name": "R",
   "language": "R",
   "name": "ir"
  },
  "language_info": {
   "codemirror_mode": "r",
   "file_extension": ".r",
   "mimetype": "text/x-r-source",
   "name": "R",
   "pygments_lexer": "r",
   "version": "3.5.3"
  }
 },
 "nbformat": 4,
 "nbformat_minor": 4
}
