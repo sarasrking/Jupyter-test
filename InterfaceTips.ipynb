{
 "cells": [
  {
   "cell_type": "markdown",
   "metadata": {},
   "source": [
    "### Working in code cells\n",
    "The notebook environment provides you with some visual help when you are working in code cells. This short tutorial will introduce you to these visual aids and to some basic concepts in Python.\n",
    "#### Colours\n",
    "In the code cell below, type the following words (or you can just copy them from here): import len =< 12 kilometres"
   ]
  },
  {
   "cell_type": "code",
   "execution_count": null,
   "metadata": {},
   "outputs": [],
   "source": [
    "import len =< 12 kilometres"
   ]
  },
  {
   "cell_type": "markdown",
   "metadata": {},
   "source": [
    "The words *import* and the abbreviation *len* are green: this is the colour in which the interface displays **reserved words** (like *import*) and **built in functions** (like *len*). Numbers also appear in green. **Operators**, like the equal sign and more/less than appear in purple. (Note: In Python, a single equals sign assigns a value to an object; to express the equality of two objects, we have to use two equals signs.) Other text appears in black, but this is not true for *string variables*, that is, pieces of text which are stored in working memory and can be manipulated. \n",
    "#### String variables\n",
    "In the cell below, type *Pearson's coefficient measures variables' covariation*. What colours do you see?"
   ]
  },
  {
   "cell_type": "code",
   "execution_count": null,
   "metadata": {},
   "outputs": [],
   "source": [
    "Pearson's coefficeint measures variables' correlation"
   ]
  },
  {
   "cell_type": "markdown",
   "metadata": {},
   "source": [
    "String variables are delineated by quote marks and appear in red in the interface. You can use either single or double quotes to mark a string variable, but if your string includes an apostrophe or inverted commas, you have to mark the string with the other kind of quote marks. In the cell below, type *Pearson's coefficient* with single quotes around it and then with double quotes around it."
   ]
  },
  {
   "cell_type": "code",
   "execution_count": null,
   "metadata": {},
   "outputs": [],
   "source": [
    "\"Perason's coefficient\""
   ]
  },
  {
   "cell_type": "markdown",
   "metadata": {},
   "source": [
    "Now try to type *The computer said \"Hello world!\"* so that it forms a single string (all in red)."
   ]
  },
  {
   "cell_type": "code",
   "execution_count": null,
   "metadata": {},
   "outputs": [],
   "source": [
    "'The computer said \"hello world!\"'"
   ]
  },
  {
   "cell_type": "markdown",
   "metadata": {},
   "source": [
    "You may have noticed in trying the last couple of examples that closing quote marks appear automatically when you type the opening one. The interface behaves like this for all paired elements: inverted commas and all type of brackets. And it doesn't matter if you type the closing element anyway, the character is not doubled.\n",
    "#### Brackets\n",
    "Regular brackets () are part of the invocation of any function or method. If the function or method requires parameters, they will be given inside the brackets; if there are no parameters, the brackets still have to be there. For example, a file object has a method to close it, which does not require parameters, so we use: **my_file.close()**. But when we create a file object (i.e. open a file), we use the general function open and we have to supply some parameters - at least the path to the file, and what we want to do with the file (read only, write, append) e.g. **my_file = open('D:/notes/python.txt', 'r')**. Often parameters supplied to such calls are formally strings - they have to be quoted - like the 'r' for 'read only' in the example.\n",
    "Earlier, we saw that *len* is a built-in function in Python, one which tells us the length of an object. We will use this to illustrate the use of brackets with a function. First we will create an object, in this case a *list*, then we will find out how long it is. In the cell below, type:\n",
    "**my_list = [2,4,6,8,10]**, go to a new line and type **len(my_list)**, then press Shift + Enter or Ctrl + Enter (afterwards, we will call this *running the cell*)."
   ]
  },
  {
   "cell_type": "code",
   "execution_count": 1,
   "metadata": {},
   "outputs": [
    {
     "data": {
      "text/plain": [
       "5"
      ]
     },
     "execution_count": 1,
     "metadata": {},
     "output_type": "execute_result"
    }
   ],
   "source": [
    "my_list = [2,4,6,8,10]\n",
    "len(my_list)"
   ]
  },
  {
   "cell_type": "markdown",
   "metadata": {},
   "source": [
    "As well as being used to delimit lists, square brackets are used to specify locations within objects. For objects which contain countable elements, we can access any of those elements by using the name of the object and the numerical index of the element within square brackets. Below, type **my_list[3]** and then run the cell\n"
   ]
  },
  {
   "cell_type": "code",
   "execution_count": 2,
   "metadata": {},
   "outputs": [
    {
     "data": {
      "text/plain": [
       "8"
      ]
     },
     "execution_count": 2,
     "metadata": {},
     "output_type": "execute_result"
    }
   ],
   "source": [
    "my_list[3]"
   ]
  },
  {
   "cell_type": "markdown",
   "metadata": {},
   "source": [
    "Is that the result which you expected? *8* is the fourth element in the list, so why is it at index number 3? Because indexing in Python starts from 0 - don't worry, you get used to this after a while! The same procedure works with string variables also: **my_string[3]** will return the 4th character in the string. We can also access ranges of elements using this sort of notation: **my_list[0:3]** will return the first 3 elements of the list. Try this in the cell below."
   ]
  },
  {
   "cell_type": "code",
   "execution_count": 3,
   "metadata": {},
   "outputs": [
    {
     "data": {
      "text/plain": [
       "[2, 4, 6]"
      ]
     },
     "execution_count": 3,
     "metadata": {},
     "output_type": "execute_result"
    }
   ],
   "source": [
    "my_list[0:3]"
   ]
  },
  {
   "cell_type": "markdown",
   "metadata": {},
   "source": [
    "Curly brackets are used in Python when creating *dictionary* objects - we will not explore that topic further.\n",
    "\n",
    "#### Objects and methods\n",
    "The chunks of information which programs operate on (variables, lists, dictionaries etc.) are often referred to as objects. Objects typically have methods (predefined operations which apply to that class of object). Methods are specified by using the name of the object followed by a full stop followed by the name of the method followed by regular brackets. If the method requires parameters, they will go inside the brackets; if there are no parameters, the brackets still have to be there. Lists have a method called *append* - you can guess what it does - and we will use that as an example. In the cell below, type: my_list.append(12), and then on a new line: my_list, then run the cell."
   ]
  },
  {
   "cell_type": "code",
   "execution_count": null,
   "metadata": {},
   "outputs": [],
   "source": [
    "\n"
   ]
  },
  {
   "cell_type": "markdown",
   "metadata": {},
   "source": [
    "Objects also often have *attributes*, information about that object such as what type of object it is and how it is organised internally. For example, a dataframe (an object used by the pandas library of Python) has an attribute *columns*. This can be retrieved with the line: \n",
    "\n",
    "my_dataFrame.columns \n",
    "\n",
    "(where my_dataFrame is a placeholder, use the name of your object) with a result such as: \n",
    "\n",
    "Index(['age', 'type_employer', 'fnlwgt', 'education', 'education_num', 'marital', 'occupation', 'relationship', 'race', 'sex', 'capital_gain', 'capital_loss', 'hr_per_week', 'country', 'income'], dtype='object'). \n",
    "\n",
    "Notice that we can see that *columns* is an attribute because there are no brackets following it. \n",
    "\n",
    "The division of labour between functions and methods is sometimes bewildering. For example, trimming leading spaces from a string is a useful operation, but in Python, it is a method of any string object rather than a function. In the cell below, create a string object with an initial space, then on the next line type: my_string.lstrip() and run the cell."
   ]
  },
  {
   "cell_type": "code",
   "execution_count": null,
   "metadata": {},
   "outputs": [],
   "source": [
    "\n"
   ]
  },
  {
   "cell_type": "markdown",
   "metadata": {},
   "source": [
    "Another example of how odd methods can seem at first is the string method *join*. This is used to turn a list of strings into a single string variable, but the string for which the method is applied is the string we want to appear between the elements, a comma or even a space. To see how this works, create a list of the words *my, name, is* and your name. Then type the line *' '.join(list)* using the name you assigned to your list as the parameter for the function. Here we are calling the function *join* for a string which consists of a space. Run the cell and be amazed!"
   ]
  },
  {
   "cell_type": "code",
   "execution_count": null,
   "metadata": {},
   "outputs": [],
   "source": [
    "\n"
   ]
  },
  {
   "cell_type": "markdown",
   "metadata": {},
   "source": [
    "You may have noticed that the names used for the objects we have created have certain characteristics. Some of these are due to constraints in programming languages: some languages do not allow names to start with a capital letter or a number, so most programmers avoid these initial possibilities everywhere. Other characteristics are due to the fact that some characters have reserved uses. As you have seen, the full stop is used to separate the names of objects and their attributes and methods (and they are also used with a special value in URLs and file names), so we generally avoid using full stops as part of a name. These are a few of the preferences you will see reflected in the names programmers use:\n",
    "\n",
    "- avoid initial capitals\n",
    "- avoid internal full stops\n",
    "- prefer underscores to hyphens\n",
    "- mark internal structure of names with underscores (my_list) or internal capital letters (myList) - also known as *camel case*\n",
    "\n",
    "In general it is good to give objects meaningful names - **variable_24** may not tell you much when you come back to your code after a break! Working in this way is part of the desirable process of writing *self-documenting code*."
   ]
  }
 ],
 "metadata": {
  "kernelspec": {
   "display_name": "Python 3",
   "language": "python",
   "name": "python3"
  },
  "language_info": {
   "codemirror_mode": {
    "name": "ipython",
    "version": 3
   },
   "file_extension": ".py",
   "mimetype": "text/x-python",
   "name": "python",
   "nbconvert_exporter": "python",
   "pygments_lexer": "ipython3",
   "version": "3.7.6"
  }
 },
 "nbformat": 4,
 "nbformat_minor": 4
}
